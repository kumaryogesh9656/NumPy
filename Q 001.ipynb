{
 "cells": [
  {
   "cell_type": "markdown",
   "id": "5ef29619",
   "metadata": {},
   "source": [
    "**Write a NumPy program to sort a given array by row and column in ascending order.**"
   ]
  },
  {
   "cell_type": "code",
   "execution_count": 1,
   "id": "811e0854",
   "metadata": {},
   "outputs": [],
   "source": [
    "import numpy as np"
   ]
  },
  {
   "cell_type": "code",
   "execution_count": 1,
   "id": "4e0ae11a",
   "metadata": {},
   "outputs": [
    {
     "data": {
      "text/plain": [
       "array([[ 20,  40,  78,  79],\n",
       "       [ 12,  34,  56, 100],\n",
       "       [ 11,  22,  33,  44]])"
      ]
     },
     "execution_count": 1,
     "metadata": {},
     "output_type": "execute_result"
    }
   ],
   "source": [
    "a = np.array([[20, 40, 78, 79], [12, 34, 56, 100], [11, 22, 33, 44]])\n",
    "a"
   ]
  },
  {
   "cell_type": "code",
   "execution_count": 1,
   "id": "38614364",
   "metadata": {},
   "outputs": [
    {
     "data": {
      "text/plain": [
       "array([[ 11,  22,  33,  44],\n",
       "       [ 12,  34,  56,  79],\n",
       "       [ 20,  40,  78, 100]])"
      ]
     },
     "execution_count": 1,
     "metadata": {},
     "output_type": "execute_result"
    }
   ],
   "source": [
    "ascending_order = np.sort(a, axis = 0)\n",
    "ascending_order"
   ]
  }
 ],
 "metadata": {
  "kernelspec": {
   "display_name": "Python 3 (ipykernel)",
   "language": "python",
   "name": "python3"
  },
  "language_info": {
   "codemirror_mode": {
    "name": "ipython",
    "version": 3
   },
   "file_extension": ".py",
   "mimetype": "text/x-python",
   "name": "python",
   "nbconvert_exporter": "python",
   "pygments_lexer": "ipython3",
   "version": "3.9.7"
  }
 },
 "nbformat": 4,
 "nbformat_minor": 5
}
